{
 "cells": [
  {
   "cell_type": "code",
   "execution_count": 5,
   "metadata": {},
   "outputs": [
    {
     "name": "stdout",
     "output_type": "stream",
     "text": [
      "Please enter your guess: 45\n",
      "Please enter your guess: 45\n",
      "Please enter your guess: 78\n",
      "Your guess is not correct\n",
      "The right number is: 104\n"
     ]
    }
   ],
   "source": [
    "# Our Solution.  This allows one input \n",
    "\n",
    "import random\n",
    "hidden = random.randrange(1, 201)\n",
    "while True: \n",
    "    for guess in range (0,3):\n",
    "        guess = int(input(\"Please enter your guess: \"))    \n",
    "        if guess == hidden:\n",
    "            print(\"Hit!\")\n",
    "            break\n",
    "    else:\n",
    "            print(\"Your guess is not correct\")\n",
    "            print(\"The right number is: \" + str(hidden))\n",
    "            break"
   ]
  },
  {
   "cell_type": "code",
   "execution_count": null,
   "metadata": {},
   "outputs": [],
   "source": [
    "Our Solution. The first part allows One Input\n",
    "Reference: https://code-maven.com/number-guessing-in-python For examples/python/number_guessing.py"
   ]
  }
 ],
 "metadata": {
  "kernelspec": {
   "display_name": "Python 3",
   "language": "python",
   "name": "python3"
  },
  "language_info": {
   "codemirror_mode": {
    "name": "ipython",
    "version": 3
   },
   "file_extension": ".py",
   "mimetype": "text/x-python",
   "name": "python",
   "nbconvert_exporter": "python",
   "pygments_lexer": "ipython3",
   "version": "3.7.3"
  }
 },
 "nbformat": 4,
 "nbformat_minor": 2
}
